{
 "cells": [
  {
   "cell_type": "code",
   "execution_count": 1,
   "metadata": {},
   "outputs": [],
   "source": [
    "# This interesting program is to implement RNN (Recurrent Neural Network) - LSTM (Long Short Team Memory)\n",
    "# to predict the next word from every 3 words input in an sample story.\n",
    "# https://towardsdatascience.com/lstm-by-example-using-tensorflow-feb0c1968537\n",
    "\n",
    "from __future__ import print_function\n",
    "\n",
    "import numpy as np\n",
    "import tensorflow as tf\n",
    "from tensorflow.contrib import rnn\n",
    "import random\n",
    "import collections\n",
    "import time"
   ]
  },
  {
   "cell_type": "code",
   "execution_count": 2,
   "metadata": {},
   "outputs": [],
   "source": [
    "# calculate elapsed model processing time\n",
    "\n",
    "start_time = time.time()\n",
    "def elapsed(sec):\n",
    "    if sec<60:\n",
    "        return str(sec) + \" sec\"\n",
    "    elif sec<(60*60):\n",
    "        return str(sec/60) + \" min\"\n",
    "    else:\n",
    "        return str(sec/(60*60)) + \" hr\""
   ]
  },
  {
   "cell_type": "code",
   "execution_count": 3,
   "metadata": {},
   "outputs": [],
   "source": [
    "# Target log path\n",
    "logs_path = '/tensorflow/rnn_words'\n",
    "writer = tf.summary.FileWriter(logs_path)\n"
   ]
  },
  {
   "cell_type": "code",
   "execution_count": 4,
   "metadata": {},
   "outputs": [],
   "source": [
    "# Text file containing words for training\n",
    "training_file = '/tensorflow/rnn_words/story1.txt'"
   ]
  },
  {
   "cell_type": "code",
   "execution_count": 5,
   "metadata": {},
   "outputs": [],
   "source": [
    "def read_data(fname):\n",
    "    with open(fname) as f:\n",
    "        content = f.readlines()\n",
    "    content = [x.strip() for x in content]\n",
    "    content = [word for i in range(len(content)) for word in content[i].split()]\n",
    "    content = np.array(content)\n",
    "    return content"
   ]
  },
  {
   "cell_type": "code",
   "execution_count": 6,
   "metadata": {},
   "outputs": [
    {
     "name": "stdout",
     "output_type": "stream",
     "text": [
      "Loaded training data...\n",
      "Loaded training data completed.\n"
     ]
    }
   ],
   "source": [
    "print(\"Loaded training data...\")\n",
    "training_data = read_data(training_file)\n",
    "print(\"Loaded training data completed.\")"
   ]
  },
  {
   "cell_type": "code",
   "execution_count": 7,
   "metadata": {},
   "outputs": [
    {
     "data": {
      "text/plain": [
       "array(['long', 'ago', ',', 'the', 'mice', 'had', 'a', 'general',\n",
       "       'council', 'to', 'consider', 'what', 'measures', 'they', 'could',\n",
       "       'take', 'to', 'outwit', 'their', 'common', 'enemy', ',', 'the',\n",
       "       'cat', '.', 'some', 'said', 'this', ',', 'and', 'some', 'said',\n",
       "       'that', 'but', 'at', 'last', 'a', 'young', 'mouse', 'got', 'up',\n",
       "       'and', 'said', 'he', 'had', 'a', 'proposal', 'to', 'make', ',',\n",
       "       'which', 'he', 'thought', 'would', 'meet', 'the', 'case', '.',\n",
       "       'you', 'will', 'all', 'agree', ',', 'said', 'he', ',', 'that',\n",
       "       'our', 'chief', 'danger', 'consists', 'in', 'the', 'sly', 'and',\n",
       "       'treacherous', 'manner', 'in', 'which', 'the', 'enemy',\n",
       "       'approaches', 'us', '.', 'now', ',', 'if', 'we', 'could',\n",
       "       'receive', 'some', 'signal', 'of', 'her', 'approach', ',', 'we',\n",
       "       'could', 'easily', 'escape', 'from', 'her', '.', 'i', 'venture',\n",
       "       ',', 'therefore', ',', 'to', 'propose', 'that', 'a', 'small',\n",
       "       'bell', 'be', 'procured', ',', 'and', 'attached', 'by', 'a',\n",
       "       'ribbon', 'round', 'the', 'neck', 'of', 'the', 'cat', '.', 'by',\n",
       "       'this', 'means', 'we', 'should', 'always', 'know', 'when', 'she',\n",
       "       'was', 'about', ',', 'and', 'could', 'easily', 'retire', 'while',\n",
       "       'she', 'was', 'in', 'the', 'neighbourhood', '.', 'this',\n",
       "       'proposal', 'met', 'with', 'general', 'applause', ',', 'until',\n",
       "       'an', 'old', 'mouse', 'got', 'up', 'and', 'said', 'that', 'is',\n",
       "       'all', 'very', 'well', ',', 'but', 'who', 'is', 'to', 'bell',\n",
       "       'the', 'cat', '?', 'the', 'mice', 'looked', 'at', 'one', 'another',\n",
       "       'and', 'nobody', 'spoke', '.', 'then', 'the', 'old', 'mouse',\n",
       "       'said', 'it', 'is', 'easy', 'to', 'propose', 'impossible',\n",
       "       'remedies', '.'], dtype='<U13')"
      ]
     },
     "execution_count": 7,
     "metadata": {},
     "output_type": "execute_result"
    }
   ],
   "source": [
    "training_data[:]"
   ]
  },
  {
   "cell_type": "code",
   "execution_count": 8,
   "metadata": {},
   "outputs": [],
   "source": [
    "def build_dataset(words):\n",
    "    count = collections.Counter(words).most_common()\n",
    "    dictionary = dict()\n",
    "    for word, _ in count:\n",
    "        dictionary[word] = len(dictionary)\n",
    "    reverse_dictionary = dict(zip(dictionary.values(), dictionary.keys()))\n",
    "    return dictionary, reverse_dictionary\n"
   ]
  },
  {
   "cell_type": "code",
   "execution_count": 9,
   "metadata": {},
   "outputs": [],
   "source": [
    "dictionary, reverse_dictionary = build_dataset(training_data)"
   ]
  },
  {
   "cell_type": "code",
   "execution_count": 10,
   "metadata": {},
   "outputs": [
    {
     "name": "stdout",
     "output_type": "stream",
     "text": [
      "29\n",
      "her\n"
     ]
    }
   ],
   "source": [
    "print (dictionary.get('her'))\n",
    "print( reverse_dictionary.get(29))"
   ]
  },
  {
   "cell_type": "code",
   "execution_count": 11,
   "metadata": {},
   "outputs": [],
   "source": [
    "vocab_size = len(dictionary)"
   ]
  },
  {
   "cell_type": "code",
   "execution_count": 12,
   "metadata": {},
   "outputs": [
    {
     "name": "stdout",
     "output_type": "stream",
     "text": [
      "112\n"
     ]
    }
   ],
   "source": [
    "print(vocab_size)"
   ]
  },
  {
   "cell_type": "code",
   "execution_count": 13,
   "metadata": {},
   "outputs": [],
   "source": [
    "# Parameters\n",
    "learning_rate = 0.001\n",
    "training_iters = 50000\n",
    "display_step = 1000\n",
    "n_input = 3"
   ]
  },
  {
   "cell_type": "code",
   "execution_count": null,
   "metadata": {},
   "outputs": [],
   "source": [
    "# number of units in RNN cell\n",
    "n_hidden = 512"
   ]
  },
  {
   "cell_type": "code",
   "execution_count": null,
   "metadata": {},
   "outputs": [],
   "source": [
    "# tf Graph input\n",
    "x = tf.placeholder(\"float\", [None, n_input, 1])\n",
    "y = tf.placeholder(\"float\", [None, vocab_size])"
   ]
  },
  {
   "cell_type": "code",
   "execution_count": null,
   "metadata": {},
   "outputs": [
    {
     "name": "stdout",
     "output_type": "stream",
     "text": [
      "Tensor(\"Placeholder:0\", shape=(?, 3, 1), dtype=float32)\n",
      "Tensor(\"Placeholder_1:0\", shape=(?, 112), dtype=float32)\n"
     ]
    }
   ],
   "source": [
    "print(x);\n",
    "print(y)"
   ]
  },
  {
   "cell_type": "code",
   "execution_count": null,
   "metadata": {},
   "outputs": [
    {
     "name": "stdout",
     "output_type": "stream",
     "text": [
      "WARNING:tensorflow:From d:\\Anaconda3\\envs\\pythongpu36\\lib\\site-packages\\tensorflow\\python\\framework\\op_def_library.py:263: colocate_with (from tensorflow.python.framework.ops) is deprecated and will be removed in a future version.\n",
      "Instructions for updating:\n",
      "Colocations handled automatically by placer.\n"
     ]
    }
   ],
   "source": [
    "# RNN output node weights and biases\n",
    "weights = {\n",
    "    'out': tf.Variable(tf.random_normal([n_hidden, vocab_size]))\n",
    "}"
   ]
  },
  {
   "cell_type": "code",
   "execution_count": null,
   "metadata": {},
   "outputs": [],
   "source": [
    "biases = {\n",
    "    'out': tf.Variable(tf.random_normal([vocab_size]))\n",
    "}\n"
   ]
  },
  {
   "cell_type": "code",
   "execution_count": null,
   "metadata": {},
   "outputs": [
    {
     "name": "stdout",
     "output_type": "stream",
     "text": [
      "{'out': <tf.Variable 'Variable:0' shape=(512, 112) dtype=float32_ref>}\n",
      "{'out': <tf.Variable 'Variable_1:0' shape=(112,) dtype=float32_ref>}\n"
     ]
    }
   ],
   "source": [
    "print(weights);\n",
    "print(biases);"
   ]
  },
  {
   "cell_type": "code",
   "execution_count": null,
   "metadata": {},
   "outputs": [],
   "source": [
    "def RNN(x, weights, biases):\n",
    "\n",
    "    # reshape to [1, n_input]\n",
    "    x = tf.reshape(x, [-1, n_input])\n",
    "\n",
    "    # Generate a n_input-element sequence of inputs\n",
    "    # (eg. [had] [a] [general] -> [20] [6] [33])\n",
    "    x = tf.split(x,n_input,1)\n",
    "\n",
    "    # 2-layer LSTM, each layer has n_hidden units.\n",
    "    # Average Accuracy= 95.20% at 50k iter\n",
    "    rnn_cell = rnn.MultiRNNCell([rnn.BasicLSTMCell(n_hidden),rnn.BasicLSTMCell(n_hidden)])\n",
    "\n",
    "    # 1-layer LSTM with n_hidden units but with lower accuracy.\n",
    "    # Average Accuracy= 90.60% 50k iter\n",
    "    # Uncomment line below to test but comment out the 2-layer rnn.MultiRNNCell above\n",
    "    # rnn_cell = rnn.BasicLSTMCell(n_hidden)\n",
    "\n",
    "    # generate prediction\n",
    "    outputs, states = rnn.static_rnn(rnn_cell, x, dtype=tf.float32)\n",
    "\n",
    "    # there are n_input outputs but\n",
    "    # we only want the last output\n",
    "    return tf.matmul(outputs[-1], weights['out']) + biases['out']\n"
   ]
  },
  {
   "cell_type": "code",
   "execution_count": null,
   "metadata": {},
   "outputs": [
    {
     "name": "stdout",
     "output_type": "stream",
     "text": [
      "WARNING:tensorflow:From <ipython-input-20-db32b4dd1591>:12: BasicLSTMCell.__init__ (from tensorflow.python.ops.rnn_cell_impl) is deprecated and will be removed in a future version.\n",
      "Instructions for updating:\n",
      "This class is equivalent as tf.keras.layers.LSTMCell, and will be replaced by that in Tensorflow 2.0.\n",
      "WARNING:tensorflow:From <ipython-input-20-db32b4dd1591>:12: MultiRNNCell.__init__ (from tensorflow.python.ops.rnn_cell_impl) is deprecated and will be removed in a future version.\n",
      "Instructions for updating:\n",
      "This class is equivalent as tf.keras.layers.StackedRNNCells, and will be replaced by that in Tensorflow 2.0.\n",
      "WARNING:tensorflow:From <ipython-input-20-db32b4dd1591>:20: static_rnn (from tensorflow.python.ops.rnn) is deprecated and will be removed in a future version.\n",
      "Instructions for updating:\n",
      "Please use `keras.layers.RNN(cell, unroll=True)`, which is equivalent to this API\n"
     ]
    }
   ],
   "source": [
    "pred = RNN(x, weights, biases)\n"
   ]
  },
  {
   "cell_type": "code",
   "execution_count": null,
   "metadata": {},
   "outputs": [
    {
     "name": "stdout",
     "output_type": "stream",
     "text": [
      "WARNING:tensorflow:From <ipython-input-22-e24fda83d55f>:2: softmax_cross_entropy_with_logits (from tensorflow.python.ops.nn_ops) is deprecated and will be removed in a future version.\n",
      "Instructions for updating:\n",
      "\n",
      "Future major versions of TensorFlow will allow gradients to flow\n",
      "into the labels input on backprop by default.\n",
      "\n",
      "See `tf.nn.softmax_cross_entropy_with_logits_v2`.\n",
      "\n"
     ]
    }
   ],
   "source": [
    "# Loss and optimizer\n",
    "cost = tf.reduce_mean(tf.nn.softmax_cross_entropy_with_logits(logits=pred, labels=y))\n"
   ]
  },
  {
   "cell_type": "code",
   "execution_count": null,
   "metadata": {},
   "outputs": [],
   "source": [
    "optimizer = tf.train.RMSPropOptimizer(learning_rate=learning_rate).minimize(cost)"
   ]
  },
  {
   "cell_type": "code",
   "execution_count": null,
   "metadata": {},
   "outputs": [],
   "source": [
    "# Model evaluation\n",
    "correct_pred = tf.equal(tf.argmax(pred,1), tf.argmax(y,1))\n",
    "accuracy = tf.reduce_mean(tf.cast(correct_pred, tf.float32))\n"
   ]
  },
  {
   "cell_type": "code",
   "execution_count": null,
   "metadata": {},
   "outputs": [],
   "source": [
    "# Initializing the variables\n",
    "init = tf.global_variables_initializer()\n"
   ]
  },
  {
   "cell_type": "code",
   "execution_count": null,
   "metadata": {},
   "outputs": [
    {
     "name": "stdout",
     "output_type": "stream",
     "text": [
      "Iter= 1000, Average Loss= 4.457089, Average Accuracy= 3.60%\n",
      "['nobody', 'spoke', '.'] - [then] vs [then]\n",
      "Iter= 2000, Average Loss= 2.995701, Average Accuracy= 15.80%\n",
      "['to', 'bell', 'the'] - [cat] vs [cat]\n",
      "Iter= 3000, Average Loss= 2.421406, Average Accuracy= 35.60%\n",
      "['is', 'all', 'very'] - [well] vs [with]\n",
      "Iter= 4000, Average Loss= 2.110001, Average Accuracy= 46.90%\n",
      "['she', 'was', 'in'] - [the] vs [the]\n",
      "Iter= 5000, Average Loss= 2.052409, Average Accuracy= 47.30%\n",
      "['a', 'ribbon', 'round'] - [the] vs [the]\n",
      "Iter= 6000, Average Loss= 1.684055, Average Accuracy= 54.90%\n",
      "['her', '.', 'i'] - [venture] vs [venture]\n",
      "Iter= 7000, Average Loss= 1.333290, Average Accuracy= 65.90%\n",
      "['now', ',', 'if'] - [we] vs [we]\n",
      "Iter= 8000, Average Loss= 1.288510, Average Accuracy= 63.20%\n",
      "['agree', ',', 'said'] - [he] vs [he]\n",
      "Iter= 9000, Average Loss= 1.114777, Average Accuracy= 67.70%\n",
      "['make', ',', 'which'] - [he] vs [he]\n",
      "Iter= 10000, Average Loss= 1.009707, Average Accuracy= 73.60%\n",
      "['young', 'mouse', 'got'] - [up] vs [up]\n",
      "Iter= 11000, Average Loss= 1.000304, Average Accuracy= 73.00%\n",
      "['and', 'some', 'said'] - [that] vs [that]\n",
      "Iter= 12000, Average Loss= 0.993990, Average Accuracy= 73.70%\n",
      "['measures', 'they', 'could'] - [take] vs [take]\n",
      "Iter= 13000, Average Loss= 0.869819, Average Accuracy= 76.10%\n",
      "['then', 'the', 'old'] - [mouse] vs [mouse]\n",
      "Iter= 14000, Average Loss= 0.941254, Average Accuracy= 75.80%\n",
      "['the', 'mice', 'looked'] - [at] vs [at]\n",
      "Iter= 15000, Average Loss= 0.877407, Average Accuracy= 75.90%\n",
      "['to', 'bell', 'the'] - [cat] vs [cat]\n",
      "Iter= 16000, Average Loss= 0.742009, Average Accuracy= 80.10%\n",
      "['all', 'very', 'well'] - [,] vs [general]\n",
      "Iter= 17000, Average Loss= 0.690209, Average Accuracy= 81.90%\n",
      "[',', 'until', 'an'] - [old] vs [old]\n",
      "Iter= 18000, Average Loss= 0.782343, Average Accuracy= 79.60%\n",
      "['easily', 'retire', 'while'] - [she] vs [she]\n",
      "Iter= 19000, Average Loss= 0.726858, Average Accuracy= 81.20%\n",
      "['by', 'this', 'means'] - [we] vs [we]\n",
      "Iter= 20000, Average Loss= 0.584066, Average Accuracy= 83.90%\n",
      "['propose', 'that', 'a'] - [small] vs [small]\n",
      "Iter= 21000, Average Loss= 0.609780, Average Accuracy= 83.20%\n",
      "['from', 'her', '.'] - [i] vs [i]\n",
      "Iter= 22000, Average Loss= 0.653099, Average Accuracy= 83.90%\n",
      "['the', 'enemy', 'approaches'] - [us] vs [us]\n",
      "Iter= 23000, Average Loss= 0.599010, Average Accuracy= 84.10%\n",
      "['and', 'treacherous', 'manner'] - [in] vs [in]\n",
      "Iter= 24000, Average Loss= 0.541886, Average Accuracy= 86.40%\n",
      "[',', 'said', 'he'] - [,] vs [,]\n",
      "Iter= 25000, Average Loss= 0.375416, Average Accuracy= 89.10%\n",
      "['but', 'at', 'last'] - [a] vs [a]\n",
      "Iter= 26000, Average Loss= 0.380996, Average Accuracy= 89.40%\n",
      "['council', 'to', 'consider'] - [what] vs [what]\n",
      "Iter= 27000, Average Loss= 0.398666, Average Accuracy= 89.60%\n",
      "['nobody', 'spoke', '.'] - [then] vs [then]\n",
      "Iter= 28000, Average Loss= 0.532037, Average Accuracy= 86.10%\n",
      "['general', 'applause', ','] - [until] vs [until]\n",
      "Iter= 29000, Average Loss= 0.676000, Average Accuracy= 84.20%\n",
      "['this', 'means', 'we'] - [should] vs [should]\n",
      "Iter= 30000, Average Loss= 0.616873, Average Accuracy= 85.60%\n",
      "[',', 'and', 'attached'] - [by] vs [by]\n",
      "Iter= 31000, Average Loss= 0.541844, Average Accuracy= 86.90%\n",
      "['i', 'venture', ','] - [therefore] vs [and]\n",
      "Iter= 32000, Average Loss= 0.610007, Average Accuracy= 85.80%\n",
      "['we', 'could', 'receive'] - [some] vs [some]\n",
      "Iter= 33000, Average Loss= 0.592315, Average Accuracy= 85.90%\n",
      "['sly', 'and', 'treacherous'] - [manner] vs [manner]\n",
      "Iter= 34000, Average Loss= 0.478092, Average Accuracy= 86.80%\n",
      "['.', 'you', 'will'] - [all] vs [all]\n",
      "Iter= 35000, Average Loss= 0.398405, Average Accuracy= 89.00%\n",
      "['mouse', 'got', 'up'] - [and] vs [and]\n",
      "Iter= 36000, Average Loss= 0.608977, Average Accuracy= 86.60%\n",
      "['said', 'that', 'but'] - [at] vs [at]\n",
      "Iter= 37000, Average Loss= 0.513703, Average Accuracy= 87.80%\n",
      "['outwit', 'their', 'common'] - [enemy] vs [they]\n",
      "Iter= 38000, Average Loss= 0.591323, Average Accuracy= 87.10%\n",
      "['propose', 'impossible', 'remedies'] - [.] vs [.]\n",
      "Iter= 39000, Average Loss= 0.551458, Average Accuracy= 86.40%\n",
      "['to', 'bell', 'the'] - [cat] vs [cat]\n",
      "Iter= 40000, Average Loss= 0.543008, Average Accuracy= 87.10%\n",
      "['up', 'and', 'said'] - [that] vs [that]\n",
      "Iter= 41000, Average Loss= 0.517593, Average Accuracy= 87.70%\n",
      "['could', 'easily', 'retire'] - [while] vs [while]\n",
      "Iter= 42000, Average Loss= 0.392275, Average Accuracy= 88.60%\n",
      "['neck', 'of', 'the'] - [cat] vs [cat]\n",
      "Iter= 43000, Average Loss= 0.390242, Average Accuracy= 90.60%\n",
      "[',', 'we', 'could'] - [easily] vs [easily]\n",
      "Iter= 44000, Average Loss= 0.650098, Average Accuracy= 86.50%\n",
      "[',', 'if', 'we'] - [could] vs [could]\n",
      "Iter= 45000, Average Loss= 0.463036, Average Accuracy= 89.10%\n",
      "['chief', 'danger', 'consists'] - [in] vs [in]\n",
      "Iter= 46000, Average Loss= 0.541703, Average Accuracy= 87.70%\n",
      "['make', ',', 'which'] - [he] vs [he]\n",
      "Iter= 47000, Average Loss= 0.642244, Average Accuracy= 86.20%\n",
      "['up', 'and', 'said'] - [he] vs [that]\n",
      "Iter= 48000, Average Loss= 0.646640, Average Accuracy= 85.50%\n",
      "['and', 'some', 'said'] - [that] vs [that]\n",
      "Iter= 49000, Average Loss= 0.599106, Average Accuracy= 86.70%\n",
      "['to', 'outwit', 'their'] - [common] vs [common]\n",
      "Iter= 50000, Average Loss= 0.423904, Average Accuracy= 90.90%\n",
      "['spoke', '.', 'then'] - [the] vs [the]\n"
     ]
    }
   ],
   "source": [
    "# Launch the graph\n",
    "with tf.Session() as session:\n",
    "    session.run(init)\n",
    "    step = 0\n",
    "    offset = random.randint(0,n_input+1)\n",
    "    end_offset = n_input + 1\n",
    "    acc_total = 0\n",
    "    loss_total = 0\n",
    "\n",
    "    writer.add_graph(session.graph)\n",
    "\n",
    "    while step < training_iters:\n",
    "        # Generate a minibatch. Add some randomness on selection process.\n",
    "        if offset > (len(training_data)-end_offset):\n",
    "            offset = random.randint(0, n_input+1)\n",
    "\n",
    "        symbols_in_keys = [ [dictionary[ str(training_data[i])]] for i in range(offset, offset+n_input) ]\n",
    "        symbols_in_keys = np.reshape(np.array(symbols_in_keys), [-1, n_input, 1])\n",
    "\n",
    "        symbols_out_onehot = np.zeros([vocab_size], dtype=float)\n",
    "        symbols_out_onehot[dictionary[str(training_data[offset+n_input])]] = 1.0\n",
    "        symbols_out_onehot = np.reshape(symbols_out_onehot,[1,-1])\n",
    "\n",
    "        _, acc, loss, onehot_pred = session.run([optimizer, accuracy, cost, pred], \\\n",
    "                                                feed_dict={x: symbols_in_keys, y: symbols_out_onehot})\n",
    "        loss_total += loss\n",
    "        acc_total += acc\n",
    "        if (step+1) % display_step == 0:\n",
    "            print(\"Iter= \" + str(step+1) + \", Average Loss= \" + \\\n",
    "                  \"{:.6f}\".format(loss_total/display_step) + \", Average Accuracy= \" + \\\n",
    "                  \"{:.2f}%\".format(100*acc_total/display_step))\n",
    "            acc_total = 0\n",
    "            loss_total = 0\n",
    "            symbols_in = [training_data[i] for i in range(offset, offset + n_input)]\n",
    "            symbols_out = training_data[offset + n_input]\n",
    "            symbols_out_pred = reverse_dictionary[int(tf.argmax(onehot_pred, 1).eval())]\n",
    "            print(\"%s - [%s] vs [%s]\" % (symbols_in,symbols_out,symbols_out_pred))\n",
    "        step += 1\n",
    "        offset += (n_input+1)"
   ]
  },
  {
   "cell_type": "code",
   "execution_count": null,
   "metadata": {},
   "outputs": [
    {
     "name": "stdout",
     "output_type": "stream",
     "text": [
      "Optimization Finished!\n",
      "Elapsed time:  13.115995005766552 min\n",
      "Run on command line.\n",
      "\ttensorboard --logdir=/tensorflow/rnn_words\n",
      "Point your web browser to: http://localhost:6006/\n"
     ]
    }
   ],
   "source": [
    "    print(\"Optimization Finished!\")\n",
    "    print(\"Elapsed time: \", elapsed(time.time() - start_time))\n",
    "    print(\"Run on command line.\")\n",
    "    print(\"\\ttensorboard --logdir=%s\" % (logs_path))\n",
    "    print(\"Point your web browser to: http://localhost:6006/\")\n"
   ]
  },
  {
   "cell_type": "code",
   "execution_count": null,
   "metadata": {},
   "outputs": [
    {
     "name": "stdout",
     "output_type": "stream",
     "text": [
      "3 words: had\n",
      "3 words: a\n",
      "3 words: general\n",
      "3 words: \n",
      "3 words: mouse mouse mouse\n",
      "Word not in dictionary\n",
      "3 words: mouse\n",
      "3 words:  \n"
     ]
    }
   ],
   "source": [
    "    while True:\n",
    "        prompt = \"%s words: \" % n_input\n",
    "        sentence = input(prompt)\n",
    "        sentence = sentence.strip()\n",
    "        words = sentence.split(' ')\n",
    "        if len(words) != n_input:\n",
    "            continue\n",
    "        try:\n",
    "            symbols_in_keys = [dictionary[str(words[i])] for i in range(len(words))]\n",
    "            for i in range(32):\n",
    "                keys = np.reshape(np.array(symbols_in_keys), [-1, n_input, 1])\n",
    "                onehot_pred = session.run(pred, feed_dict={x: keys})\n",
    "                onehot_pred_index = int(tf.argmax(onehot_pred, 1).eval())\n",
    "                sentence = \"%s %s\" % (sentence,reverse_dictionary[onehot_pred_index])\n",
    "                symbols_in_keys = symbols_in_keys[1:]\n",
    "                symbols_in_keys.append(onehot_pred_index)\n",
    "            print(sentence)\n",
    "        except:\n",
    "            print(\"Word not in dictionary\")\n"
   ]
  },
  {
   "cell_type": "code",
   "execution_count": null,
   "metadata": {},
   "outputs": [],
   "source": []
  },
  {
   "cell_type": "code",
   "execution_count": null,
   "metadata": {},
   "outputs": [],
   "source": []
  },
  {
   "cell_type": "code",
   "execution_count": null,
   "metadata": {},
   "outputs": [],
   "source": []
  },
  {
   "cell_type": "code",
   "execution_count": null,
   "metadata": {},
   "outputs": [],
   "source": []
  },
  {
   "cell_type": "code",
   "execution_count": null,
   "metadata": {},
   "outputs": [],
   "source": []
  }
 ],
 "metadata": {
  "kernelspec": {
   "display_name": "Tensorflow-GPU",
   "language": "python",
   "name": "pythongpu36"
  },
  "language_info": {
   "codemirror_mode": {
    "name": "ipython",
    "version": 3
   },
   "file_extension": ".py",
   "mimetype": "text/x-python",
   "name": "python",
   "nbconvert_exporter": "python",
   "pygments_lexer": "ipython3",
   "version": "3.6.8"
  }
 },
 "nbformat": 4,
 "nbformat_minor": 2
}
