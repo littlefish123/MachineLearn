{
 "cells": [
  {
   "cell_type": "code",
   "execution_count": 1,
   "metadata": {},
   "outputs": [],
   "source": [
    "# This interesting program is to implement RNN (Recurrent Neural Network) - LSTM (Long Short Team Memory)\n",
    "# to predict the next word from every 3 words input in an sample story.\n",
    "# https://towardsdatascience.com/lstm-by-example-using-tensorflow-feb0c1968537\n",
    "\n",
    "from __future__ import print_function\n",
    "\n",
    "import numpy as np\n",
    "import tensorflow as tf\n",
    "from tensorflow.contrib import rnn\n",
    "import random\n",
    "import collections\n",
    "import time"
   ]
  },
  {
   "cell_type": "code",
   "execution_count": 2,
   "metadata": {},
   "outputs": [],
   "source": [
    "# calculate elapsed model processing time\n",
    "\n",
    "start_time = time.time()\n",
    "def elapsed(sec):\n",
    "    if sec<60:\n",
    "        return str(sec) + \" sec\"\n",
    "    elif sec<(60*60):\n",
    "        return str(sec/60) + \" min\"\n",
    "    else:\n",
    "        return str(sec/(60*60)) + \" hr\""
   ]
  },
  {
   "cell_type": "code",
   "execution_count": 3,
   "metadata": {},
   "outputs": [],
   "source": [
    "# Target log path\n",
    "logs_path = '/tensorflow/rnn_words'\n",
    "writer = tf.summary.FileWriter(logs_path)\n"
   ]
  },
  {
   "cell_type": "code",
   "execution_count": 4,
   "metadata": {},
   "outputs": [],
   "source": [
    "# Text file containing words for training\n",
    "training_file = '/tensorflow/rnn_words/story1.txt'"
   ]
  },
  {
   "cell_type": "code",
   "execution_count": 5,
   "metadata": {},
   "outputs": [],
   "source": [
    "def read_data(fname):\n",
    "    with open(fname) as f:\n",
    "        content = f.readlines()\n",
    "    content = [x.strip() for x in content]\n",
    "    content = [word for i in range(len(content)) for word in content[i].split()]\n",
    "    content = np.array(content)\n",
    "    return content"
   ]
  },
  {
   "cell_type": "code",
   "execution_count": 6,
   "metadata": {},
   "outputs": [
    {
     "name": "stdout",
     "output_type": "stream",
     "text": [
      "Loaded training data...\n",
      "Loaded training data completed.\n"
     ]
    }
   ],
   "source": [
    "print(\"Loaded training data...\")\n",
    "training_data = read_data(training_file)\n",
    "print(\"Loaded training data completed.\")"
   ]
  },
  {
   "cell_type": "code",
   "execution_count": 7,
   "metadata": {},
   "outputs": [
    {
     "data": {
      "text/plain": [
       "array(['long', 'ago', ',', 'the', 'mice', 'had', 'a', 'general',\n",
       "       'council', 'to', 'consider', 'what', 'measures', 'they', 'could',\n",
       "       'take', 'to', 'outwit', 'their', 'common', 'enemy', ',', 'the',\n",
       "       'cat', '.', 'some', 'said', 'this', ',', 'and', 'some', 'said',\n",
       "       'that', 'but', 'at', 'last', 'a', 'young', 'mouse', 'got', 'up',\n",
       "       'and', 'said', 'he', 'had', 'a', 'proposal', 'to', 'make', ',',\n",
       "       'which', 'he', 'thought', 'would', 'meet', 'the', 'case', '.',\n",
       "       'you', 'will', 'all', 'agree', ',', 'said', 'he', ',', 'that',\n",
       "       'our', 'chief', 'danger', 'consists', 'in', 'the', 'sly', 'and',\n",
       "       'treacherous', 'manner', 'in', 'which', 'the', 'enemy',\n",
       "       'approaches', 'us', '.', 'now', ',', 'if', 'we', 'could',\n",
       "       'receive', 'some', 'signal', 'of', 'her', 'approach', ',', 'we',\n",
       "       'could', 'easily', 'escape', 'from', 'her', '.', 'i', 'venture',\n",
       "       ',', 'therefore', ',', 'to', 'propose', 'that', 'a', 'small',\n",
       "       'bell', 'be', 'procured', ',', 'and', 'attached', 'by', 'a',\n",
       "       'ribbon', 'round', 'the', 'neck', 'of', 'the', 'cat', '.', 'by',\n",
       "       'this', 'means', 'we', 'should', 'always', 'know', 'when', 'she',\n",
       "       'was', 'about', ',', 'and', 'could', 'easily', 'retire', 'while',\n",
       "       'she', 'was', 'in', 'the', 'neighbourhood', '.', 'this',\n",
       "       'proposal', 'met', 'with', 'general', 'applause', ',', 'until',\n",
       "       'an', 'old', 'mouse', 'got', 'up', 'and', 'said', 'that', 'is',\n",
       "       'all', 'very', 'well', ',', 'but', 'who', 'is', 'to', 'bell',\n",
       "       'the', 'cat', '?', 'the', 'mice', 'looked', 'at', 'one', 'another',\n",
       "       'and', 'nobody', 'spoke', '.', 'then', 'the', 'old', 'mouse',\n",
       "       'said', 'it', 'is', 'easy', 'to', 'propose', 'impossible',\n",
       "       'remedies', '.'], dtype='<U13')"
      ]
     },
     "execution_count": 7,
     "metadata": {},
     "output_type": "execute_result"
    }
   ],
   "source": [
    "training_data[:]"
   ]
  },
  {
   "cell_type": "code",
   "execution_count": 8,
   "metadata": {},
   "outputs": [],
   "source": [
    "def build_dataset(words):\n",
    "    count = collections.Counter(words).most_common()\n",
    "    dictionary = dict()\n",
    "    for word, _ in count:\n",
    "        dictionary[word] = len(dictionary)\n",
    "    reverse_dictionary = dict(zip(dictionary.values(), dictionary.keys()))\n",
    "    return dictionary, reverse_dictionary\n"
   ]
  },
  {
   "cell_type": "code",
   "execution_count": 9,
   "metadata": {},
   "outputs": [],
   "source": [
    "dictionary, reverse_dictionary = build_dataset(training_data)"
   ]
  },
  {
   "cell_type": "code",
   "execution_count": 10,
   "metadata": {},
   "outputs": [
    {
     "name": "stdout",
     "output_type": "stream",
     "text": [
      "29\n",
      "her\n"
     ]
    }
   ],
   "source": [
    "print (dictionary.get('her'))\n",
    "print( reverse_dictionary.get(29))"
   ]
  },
  {
   "cell_type": "code",
   "execution_count": 11,
   "metadata": {},
   "outputs": [],
   "source": [
    "vocab_size = len(dictionary)"
   ]
  },
  {
   "cell_type": "code",
   "execution_count": 12,
   "metadata": {},
   "outputs": [
    {
     "name": "stdout",
     "output_type": "stream",
     "text": [
      "112\n"
     ]
    }
   ],
   "source": [
    "print(vocab_size)"
   ]
  },
  {
   "cell_type": "code",
   "execution_count": 13,
   "metadata": {},
   "outputs": [],
   "source": [
    "# Parameters\n",
    "learning_rate = 0.001\n",
    "training_iters = 50000\n",
    "display_step = 1000\n",
    "n_input = 3"
   ]
  },
  {
   "cell_type": "code",
   "execution_count": 14,
   "metadata": {},
   "outputs": [],
   "source": [
    "# number of units in RNN cell\n",
    "n_hidden = 512"
   ]
  },
  {
   "cell_type": "code",
   "execution_count": 15,
   "metadata": {},
   "outputs": [],
   "source": [
    "# tf Graph input\n",
    "x = tf.placeholder(\"float\", [None, n_input, 1])\n",
    "y = tf.placeholder(\"float\", [None, vocab_size])"
   ]
  },
  {
   "cell_type": "code",
   "execution_count": 16,
   "metadata": {},
   "outputs": [
    {
     "name": "stdout",
     "output_type": "stream",
     "text": [
      "Tensor(\"Placeholder:0\", shape=(?, 3, 1), dtype=float32)\n",
      "Tensor(\"Placeholder_1:0\", shape=(?, 112), dtype=float32)\n"
     ]
    }
   ],
   "source": [
    "print(x);\n",
    "print(y)"
   ]
  },
  {
   "cell_type": "code",
   "execution_count": 17,
   "metadata": {},
   "outputs": [
    {
     "name": "stdout",
     "output_type": "stream",
     "text": [
      "WARNING:tensorflow:From d:\\Anaconda3\\envs\\pythongpu36\\lib\\site-packages\\tensorflow\\python\\framework\\op_def_library.py:263: colocate_with (from tensorflow.python.framework.ops) is deprecated and will be removed in a future version.\n",
      "Instructions for updating:\n",
      "Colocations handled automatically by placer.\n"
     ]
    }
   ],
   "source": [
    "# RNN output node weights and biases\n",
    "weights = {\n",
    "    'out': tf.Variable(tf.random_normal([n_hidden, vocab_size]))\n",
    "}"
   ]
  },
  {
   "cell_type": "code",
   "execution_count": 18,
   "metadata": {},
   "outputs": [],
   "source": [
    "biases = {\n",
    "    'out': tf.Variable(tf.random_normal([vocab_size]))\n",
    "}\n"
   ]
  },
  {
   "cell_type": "code",
   "execution_count": 19,
   "metadata": {},
   "outputs": [
    {
     "name": "stdout",
     "output_type": "stream",
     "text": [
      "{'out': <tf.Variable 'Variable:0' shape=(512, 112) dtype=float32_ref>}\n",
      "{'out': <tf.Variable 'Variable_1:0' shape=(112,) dtype=float32_ref>}\n"
     ]
    }
   ],
   "source": [
    "print(weights);\n",
    "print(biases);"
   ]
  },
  {
   "cell_type": "code",
   "execution_count": 20,
   "metadata": {},
   "outputs": [],
   "source": [
    "def RNN(x, weights, biases):\n",
    "\n",
    "    # reshape to [1, n_input]\n",
    "    x = tf.reshape(x, [-1, n_input])\n",
    "\n",
    "    # Generate a n_input-element sequence of inputs\n",
    "    # (eg. [had] [a] [general] -> [20] [6] [33])\n",
    "    x = tf.split(x,n_input,1)\n",
    "\n",
    "    # 2-layer LSTM, each layer has n_hidden units.\n",
    "    # Average Accuracy= 95.20% at 50k iter\n",
    "    rnn_cell = rnn.MultiRNNCell([rnn.BasicLSTMCell(n_hidden),rnn.BasicLSTMCell(n_hidden)])\n",
    "\n",
    "    # 1-layer LSTM with n_hidden units but with lower accuracy.\n",
    "    # Average Accuracy= 90.60% 50k iter\n",
    "    # Uncomment line below to test but comment out the 2-layer rnn.MultiRNNCell above\n",
    "    # rnn_cell = rnn.BasicLSTMCell(n_hidden)\n",
    "\n",
    "    # generate prediction\n",
    "    outputs, states = rnn.static_rnn(rnn_cell, x, dtype=tf.float32)\n",
    "\n",
    "    # there are n_input outputs but\n",
    "    # we only want the last output\n",
    "    return tf.matmul(outputs[-1], weights['out']) + biases['out']\n"
   ]
  },
  {
   "cell_type": "code",
   "execution_count": 21,
   "metadata": {},
   "outputs": [
    {
     "name": "stdout",
     "output_type": "stream",
     "text": [
      "WARNING:tensorflow:From <ipython-input-20-db32b4dd1591>:12: BasicLSTMCell.__init__ (from tensorflow.python.ops.rnn_cell_impl) is deprecated and will be removed in a future version.\n",
      "Instructions for updating:\n",
      "This class is equivalent as tf.keras.layers.LSTMCell, and will be replaced by that in Tensorflow 2.0.\n",
      "WARNING:tensorflow:From <ipython-input-20-db32b4dd1591>:12: MultiRNNCell.__init__ (from tensorflow.python.ops.rnn_cell_impl) is deprecated and will be removed in a future version.\n",
      "Instructions for updating:\n",
      "This class is equivalent as tf.keras.layers.StackedRNNCells, and will be replaced by that in Tensorflow 2.0.\n",
      "WARNING:tensorflow:From <ipython-input-20-db32b4dd1591>:20: static_rnn (from tensorflow.python.ops.rnn) is deprecated and will be removed in a future version.\n",
      "Instructions for updating:\n",
      "Please use `keras.layers.RNN(cell, unroll=True)`, which is equivalent to this API\n"
     ]
    }
   ],
   "source": [
    "pred = RNN(x, weights, biases)\n"
   ]
  },
  {
   "cell_type": "code",
   "execution_count": 22,
   "metadata": {},
   "outputs": [
    {
     "name": "stdout",
     "output_type": "stream",
     "text": [
      "WARNING:tensorflow:From <ipython-input-22-e24fda83d55f>:2: softmax_cross_entropy_with_logits (from tensorflow.python.ops.nn_ops) is deprecated and will be removed in a future version.\n",
      "Instructions for updating:\n",
      "\n",
      "Future major versions of TensorFlow will allow gradients to flow\n",
      "into the labels input on backprop by default.\n",
      "\n",
      "See `tf.nn.softmax_cross_entropy_with_logits_v2`.\n",
      "\n"
     ]
    }
   ],
   "source": [
    "# Loss and optimizer\n",
    "cost = tf.reduce_mean(tf.nn.softmax_cross_entropy_with_logits(logits=pred, labels=y))\n"
   ]
  },
  {
   "cell_type": "code",
   "execution_count": 23,
   "metadata": {},
   "outputs": [],
   "source": [
    "optimizer = tf.train.RMSPropOptimizer(learning_rate=learning_rate).minimize(cost)"
   ]
  },
  {
   "cell_type": "code",
   "execution_count": null,
   "metadata": {},
   "outputs": [],
   "source": [
    "# Model evaluation\n",
    "correct_pred = tf.equal(tf.argmax(pred,1), tf.argmax(y,1))\n",
    "accuracy = tf.reduce_mean(tf.cast(correct_pred, tf.float32))\n"
   ]
  },
  {
   "cell_type": "code",
   "execution_count": null,
   "metadata": {},
   "outputs": [],
   "source": [
    "# Initializing the variables\n",
    "init = tf.global_variables_initializer()\n"
   ]
  },
  {
   "cell_type": "code",
   "execution_count": null,
   "metadata": {},
   "outputs": [
    {
     "name": "stdout",
     "output_type": "stream",
     "text": [
      "Iter= 1000, Average Loss= 4.522732, Average Accuracy= 3.20%\n",
      "['nobody', 'spoke', '.'] - [then] vs [until]\n",
      "Iter= 2000, Average Loss= 2.945253, Average Accuracy= 17.40%\n",
      "['well', ',', 'but'] - [who] vs [could]\n",
      "Iter= 3000, Average Loss= 2.256479, Average Accuracy= 40.10%\n",
      "['met', 'with', 'general'] - [applause] vs [applause]\n",
      "Iter= 4000, Average Loss= 2.172816, Average Accuracy= 46.40%\n",
      "['when', 'she', 'was'] - [about] vs [about]\n",
      "Iter= 5000, Average Loss= 1.813674, Average Accuracy= 53.60%\n",
      "['round', 'the', 'neck'] - [of] vs [,]\n",
      "Iter= 6000, Average Loss= 1.641074, Average Accuracy= 55.20%\n",
      "[',', 'to', 'propose'] - [that] vs [that]\n",
      "Iter= 7000, Average Loss= 1.352943, Average Accuracy= 66.00%\n",
      "['escape', 'from', 'her'] - [.] vs [which]\n",
      "Iter= 8000, Average Loss= 1.326775, Average Accuracy= 66.70%\n",
      "['the', 'sly', 'and'] - [treacherous] vs [you]\n",
      "Iter= 9000, Average Loss= 1.086272, Average Accuracy= 69.30%\n",
      "['meet', 'the', 'case'] - [.] vs [,]\n",
      "Iter= 10000, Average Loss= 1.088446, Average Accuracy= 71.50%\n",
      "['young', 'mouse', 'got'] - [up] vs [up]\n",
      "Iter= 11000, Average Loss= 0.852154, Average Accuracy= 77.50%\n",
      "[',', 'and', 'some'] - [said] vs [said]\n",
      "Iter= 12000, Average Loss= 0.950525, Average Accuracy= 75.50%\n",
      "['what', 'measures', 'they'] - [could] vs [could]\n",
      "Iter= 13000, Average Loss= 0.835127, Average Accuracy= 76.70%\n",
      "['easy', 'to', 'propose'] - [impossible] vs [impossible]\n",
      "Iter= 14000, Average Loss= 0.721463, Average Accuracy= 81.30%\n",
      "['bell', 'the', 'cat'] - [?] vs [.]\n",
      "Iter= 15000, Average Loss= 0.779689, Average Accuracy= 80.30%\n",
      "['old', 'mouse', 'got'] - [up] vs [up]\n",
      "Iter= 16000, Average Loss= 0.777276, Average Accuracy= 79.60%\n",
      "['could', 'easily', 'retire'] - [while] vs [remedies]\n",
      "Iter= 17000, Average Loss= 0.674441, Average Accuracy= 82.90%\n",
      "['.', 'by', 'this'] - [means] vs [means]\n",
      "Iter= 18000, Average Loss= 0.727896, Average Accuracy= 81.80%\n",
      "[',', 'and', 'attached'] - [by] vs [by]\n",
      "Iter= 19000, Average Loss= 0.707749, Average Accuracy= 81.00%\n",
      "['venture', ',', 'therefore'] - [,] vs [we]\n",
      "Iter= 20000, Average Loss= 0.608687, Average Accuracy= 83.80%\n",
      "['we', 'could', 'receive'] - [some] vs [some]\n",
      "Iter= 21000, Average Loss= 0.584722, Average Accuracy= 84.50%\n",
      "['in', 'the', 'sly'] - [and] vs [and]\n",
      "Iter= 22000, Average Loss= 0.516472, Average Accuracy= 86.50%\n",
      "['make', ',', 'which'] - [he] vs [he]\n",
      "Iter= 23000, Average Loss= 0.588916, Average Accuracy= 85.20%\n",
      "['a', 'young', 'mouse'] - [got] vs [got]\n"
     ]
    }
   ],
   "source": [
    "# Launch the graph\n",
    "with tf.Session() as session:\n",
    "    session.run(init)\n",
    "    step = 0\n",
    "    offset = random.randint(0,n_input+1)\n",
    "    end_offset = n_input + 1\n",
    "    acc_total = 0\n",
    "    loss_total = 0\n",
    "\n",
    "    writer.add_graph(session.graph)\n",
    "\n",
    "    while step < training_iters:\n",
    "        # Generate a minibatch. Add some randomness on selection process.\n",
    "        if offset > (len(training_data)-end_offset):\n",
    "            offset = random.randint(0, n_input+1)\n",
    "\n",
    "        symbols_in_keys = [ [dictionary[ str(training_data[i])]] for i in range(offset, offset+n_input) ]\n",
    "        symbols_in_keys = np.reshape(np.array(symbols_in_keys), [-1, n_input, 1])\n",
    "\n",
    "        symbols_out_onehot = np.zeros([vocab_size], dtype=float)\n",
    "        symbols_out_onehot[dictionary[str(training_data[offset+n_input])]] = 1.0\n",
    "        symbols_out_onehot = np.reshape(symbols_out_onehot,[1,-1])\n",
    "\n",
    "        _, acc, loss, onehot_pred = session.run([optimizer, accuracy, cost, pred], \\\n",
    "                                                feed_dict={x: symbols_in_keys, y: symbols_out_onehot})\n",
    "        loss_total += loss\n",
    "        acc_total += acc\n",
    "        if (step+1) % display_step == 0:\n",
    "            print(\"Iter= \" + str(step+1) + \", Average Loss= \" + \\\n",
    "                  \"{:.6f}\".format(loss_total/display_step) + \", Average Accuracy= \" + \\\n",
    "                  \"{:.2f}%\".format(100*acc_total/display_step))\n",
    "            acc_total = 0\n",
    "            loss_total = 0\n",
    "            symbols_in = [training_data[i] for i in range(offset, offset + n_input)]\n",
    "            symbols_out = training_data[offset + n_input]\n",
    "            symbols_out_pred = reverse_dictionary[int(tf.argmax(onehot_pred, 1).eval())]\n",
    "            print(\"%s - [%s] vs [%s]\" % (symbols_in,symbols_out,symbols_out_pred))\n",
    "        step += 1\n",
    "        offset += (n_input+1)"
   ]
  },
  {
   "cell_type": "code",
   "execution_count": null,
   "metadata": {},
   "outputs": [],
   "source": [
    "    print(\"Optimization Finished!\")\n",
    "    print(\"Elapsed time: \", elapsed(time.time() - start_time))\n",
    "    print(\"Run on command line.\")\n",
    "    print(\"\\ttensorboard --logdir=%s\" % (logs_path))\n",
    "    print(\"Point your web browser to: http://localhost:6006/\")\n"
   ]
  },
  {
   "cell_type": "code",
   "execution_count": null,
   "metadata": {},
   "outputs": [],
   "source": [
    "    while True:\n",
    "        prompt = \"%s words: \" % n_input\n",
    "        sentence = input(prompt)\n",
    "        sentence = sentence.strip()\n",
    "        words = sentence.split(' ')\n",
    "        if len(words) != n_input:\n",
    "            continue\n",
    "        try:\n",
    "            symbols_in_keys = [dictionary[str(words[i])] for i in range(len(words))]\n",
    "            for i in range(32):\n",
    "                keys = np.reshape(np.array(symbols_in_keys), [-1, n_input, 1])\n",
    "                onehot_pred = session.run(pred, feed_dict={x: keys})\n",
    "                onehot_pred_index = int(tf.argmax(onehot_pred, 1).eval())\n",
    "                sentence = \"%s %s\" % (sentence,reverse_dictionary[onehot_pred_index])\n",
    "                symbols_in_keys = symbols_in_keys[1:]\n",
    "                symbols_in_keys.append(onehot_pred_index)\n",
    "            print(sentence)\n",
    "        except:\n",
    "            print(\"Word not in dictionary\")\n"
   ]
  },
  {
   "cell_type": "code",
   "execution_count": null,
   "metadata": {},
   "outputs": [],
   "source": []
  },
  {
   "cell_type": "code",
   "execution_count": null,
   "metadata": {},
   "outputs": [],
   "source": []
  },
  {
   "cell_type": "code",
   "execution_count": null,
   "metadata": {},
   "outputs": [],
   "source": []
  },
  {
   "cell_type": "code",
   "execution_count": null,
   "metadata": {},
   "outputs": [],
   "source": []
  },
  {
   "cell_type": "code",
   "execution_count": null,
   "metadata": {},
   "outputs": [],
   "source": []
  }
 ],
 "metadata": {
  "kernelspec": {
   "display_name": "Tensorflow-GPU",
   "language": "python",
   "name": "pythongpu36"
  },
  "language_info": {
   "codemirror_mode": {
    "name": "ipython",
    "version": 3
   },
   "file_extension": ".py",
   "mimetype": "text/x-python",
   "name": "python",
   "nbconvert_exporter": "python",
   "pygments_lexer": "ipython3",
   "version": "3.6.8"
  }
 },
 "nbformat": 4,
 "nbformat_minor": 2
}
