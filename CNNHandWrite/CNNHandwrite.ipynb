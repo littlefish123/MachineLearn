{
 "cells": [
  {
   "cell_type": "code",
   "execution_count": 22,
   "metadata": {},
   "outputs": [],
   "source": [
    "# This program is to implement CNN model to recognise handwriting images to be number 0-9.\n",
    "# https://www.tensorflow.org/tutorials/estimators/cnn#building_the_cnn_mnist_classifier\n",
    "\n",
    "from __future__ import absolute_import, division, print_function\n",
    "\n",
    "import tensorflow as tf\n",
    "import numpy as np\n",
    "import matplotlib.pyplot as plt\n",
    "\n",
    "tf.logging.set_verbosity(tf.logging.INFO)"
   ]
  },
  {
   "cell_type": "code",
   "execution_count": null,
   "metadata": {},
   "outputs": [],
   "source": [
    "def cnn_model_fn(features, labels, mode):\n",
    "  \"\"\"Model function for CNN.\"\"\"\n",
    "  # Input Layer\n",
    "  input_layer = tf.reshape(features[\"x\"], [-1, 28, 28, 1])\n",
    "\n",
    "  # Convolutional Layer #1\n",
    "  conv1 = tf.layers.conv2d(\n",
    "      inputs=input_layer,\n",
    "      filters=32,\n",
    "      kernel_size=[5, 5],\n",
    "      padding=\"same\",\n",
    "      activation=tf.nn.relu)\n",
    "\n",
    "  # Pooling Layer #1\n",
    "  pool1 = tf.layers.max_pooling2d(inputs=conv1, pool_size=[2, 2], strides=2)\n",
    "\n",
    "  # Convolutional Layer #2 and Pooling Layer #2\n",
    "  conv2 = tf.layers.conv2d(\n",
    "      inputs=pool1,\n",
    "      filters=64,\n",
    "      kernel_size=[5, 5],\n",
    "      padding=\"same\",\n",
    "      activation=tf.nn.relu)\n",
    "  pool2 = tf.layers.max_pooling2d(inputs=conv2, pool_size=[2, 2], strides=2)\n",
    "\n",
    "  # Dense Layer\n",
    "  pool2_flat = tf.reshape(pool2, [-1, 7 * 7 * 64])\n",
    "  dense = tf.layers.dense(inputs=pool2_flat, units=1024, activation=tf.nn.relu)\n",
    "  dropout = tf.layers.dropout(\n",
    "      inputs=dense, rate=0.4, training=mode == tf.estimator.ModeKeys.TRAIN)\n",
    "\n",
    "  # Logits Layer\n",
    "  logits = tf.layers.dense(inputs=dropout, units=10)\n",
    "\n",
    "  predictions = {\n",
    "      # Generate predictions (for PREDICT and EVAL mode)\n",
    "      \"classes\": tf.argmax(input=logits, axis=1),\n",
    "      # Add `softmax_tensor` to the graph. It is used for PREDICT and by the\n",
    "      # `logging_hook`.\n",
    "      \"probabilities\": tf.nn.softmax(logits, name=\"softmax_tensor\")\n",
    "  }\n",
    "\n",
    "  if mode == tf.estimator.ModeKeys.PREDICT:\n",
    "    return tf.estimator.EstimatorSpec(mode=mode, predictions=predictions)\n",
    "\n",
    "  # Calculate Loss (for both TRAIN and EVAL modes)\n",
    "  loss = tf.losses.sparse_softmax_cross_entropy(labels=labels, logits=logits)\n",
    "\n",
    "  # Configure the Training Op (for TRAIN mode)\n",
    "  if mode == tf.estimator.ModeKeys.TRAIN:\n",
    "    optimizer = tf.train.GradientDescentOptimizer(learning_rate=0.001)\n",
    "    train_op = optimizer.minimize(\n",
    "        loss=loss,\n",
    "        global_step=tf.train.get_global_step())\n",
    "    return tf.estimator.EstimatorSpec(mode=mode, loss=loss, train_op=train_op)\n",
    "\n",
    "  # Add evaluation metrics (for EVAL mode)\n",
    "  eval_metric_ops = {\n",
    "      \"accuracy\": tf.metrics.accuracy(\n",
    "          labels=labels, predictions=predictions[\"classes\"])\n",
    "  }\n",
    "  return tf.estimator.EstimatorSpec(\n",
    "      mode=mode, loss=loss, eval_metric_ops=eval_metric_ops)"
   ]
  },
  {
   "cell_type": "code",
   "execution_count": null,
   "metadata": {},
   "outputs": [],
   "source": [
    "# Train image data\n",
    "((train_data, train_labels),\n",
    " (eval_data, eval_labels)) = tf.keras.datasets.mnist.load_data()"
   ]
  },
  {
   "cell_type": "code",
   "execution_count": null,
   "metadata": {},
   "outputs": [],
   "source": [
    "train_data = train_data/np.float32(255)"
   ]
  },
  {
   "cell_type": "code",
   "execution_count": null,
   "metadata": {},
   "outputs": [],
   "source": [
    "eval_data = eval_data/np.float32(255)"
   ]
  },
  {
   "cell_type": "code",
   "execution_count": null,
   "metadata": {},
   "outputs": [],
   "source": [
    "train_labels = train_labels.astype(np.int32)  # not required"
   ]
  },
  {
   "cell_type": "code",
   "execution_count": null,
   "metadata": {},
   "outputs": [],
   "source": [
    "eval_labels = eval_labels.astype(np.int32)  # not required"
   ]
  },
  {
   "cell_type": "code",
   "execution_count": null,
   "metadata": {},
   "outputs": [],
   "source": [
    "train_data[0]"
   ]
  },
  {
   "cell_type": "code",
   "execution_count": null,
   "metadata": {},
   "outputs": [],
   "source": [
    "train_labels[0]"
   ]
  },
  {
   "cell_type": "code",
   "execution_count": null,
   "metadata": {},
   "outputs": [],
   "source": [
    "# Create the Estimator\n",
    "mnist_classifier = tf.estimator.Estimator(\n",
    "    model_fn=cnn_model_fn, model_dir=\"/tensorflow/mnist_convnet_model\")"
   ]
  },
  {
   "cell_type": "code",
   "execution_count": null,
   "metadata": {},
   "outputs": [],
   "source": [
    "# Setup Logging Hook\n",
    "# Set up logging for predictions\n",
    "tensors_to_log = {\"probabilities\": \"softmax_tensor\"}\n"
   ]
  },
  {
   "cell_type": "code",
   "execution_count": null,
   "metadata": {},
   "outputs": [],
   "source": [
    "logging_hook = tf.train.LoggingTensorHook(\n",
    "    tensors=tensors_to_log, every_n_iter=50)"
   ]
  },
  {
   "cell_type": "code",
   "execution_count": null,
   "metadata": {},
   "outputs": [],
   "source": [
    "# Train CNN Model\n",
    "train_input_fn = tf.estimator.inputs.numpy_input_fn(\n",
    "    x={\"x\": train_data},\n",
    "    y=train_labels,\n",
    "    batch_size=100,\n",
    "    num_epochs=None,\n",
    "    shuffle=True)\n"
   ]
  },
  {
   "cell_type": "code",
   "execution_count": 15,
   "metadata": {},
   "outputs": [
    {
     "name": "stdout",
     "output_type": "stream",
     "text": [
      "WARNING:tensorflow:From d:\\Anaconda3\\envs\\pythongpu36\\lib\\site-packages\\tensorflow\\python\\framework\\op_def_library.py:263: colocate_with (from tensorflow.python.framework.ops) is deprecated and will be removed in a future version.\n",
      "Instructions for updating:\n",
      "Colocations handled automatically by placer.\n",
      "WARNING:tensorflow:From d:\\Anaconda3\\envs\\pythongpu36\\lib\\site-packages\\tensorflow_estimator\\python\\estimator\\inputs\\queues\\feeding_queue_runner.py:62: QueueRunner.__init__ (from tensorflow.python.training.queue_runner_impl) is deprecated and will be removed in a future version.\n",
      "Instructions for updating:\n",
      "To construct input pipelines, use the `tf.data` module.\n",
      "WARNING:tensorflow:From d:\\Anaconda3\\envs\\pythongpu36\\lib\\site-packages\\tensorflow_estimator\\python\\estimator\\inputs\\queues\\feeding_functions.py:500: add_queue_runner (from tensorflow.python.training.queue_runner_impl) is deprecated and will be removed in a future version.\n",
      "Instructions for updating:\n",
      "To construct input pipelines, use the `tf.data` module.\n",
      "INFO:tensorflow:Calling model_fn.\n",
      "WARNING:tensorflow:From <ipython-input-2-16a10fb7f348>:12: conv2d (from tensorflow.python.layers.convolutional) is deprecated and will be removed in a future version.\n",
      "Instructions for updating:\n",
      "Use keras.layers.conv2d instead.\n",
      "WARNING:tensorflow:From <ipython-input-2-16a10fb7f348>:15: max_pooling2d (from tensorflow.python.layers.pooling) is deprecated and will be removed in a future version.\n",
      "Instructions for updating:\n",
      "Use keras.layers.max_pooling2d instead.\n",
      "WARNING:tensorflow:From <ipython-input-2-16a10fb7f348>:28: dense (from tensorflow.python.layers.core) is deprecated and will be removed in a future version.\n",
      "Instructions for updating:\n",
      "Use keras.layers.dense instead.\n",
      "WARNING:tensorflow:From <ipython-input-2-16a10fb7f348>:30: dropout (from tensorflow.python.layers.core) is deprecated and will be removed in a future version.\n",
      "Instructions for updating:\n",
      "Use keras.layers.dropout instead.\n",
      "WARNING:tensorflow:From d:\\Anaconda3\\envs\\pythongpu36\\lib\\site-packages\\tensorflow\\python\\keras\\layers\\core.py:143: calling dropout (from tensorflow.python.ops.nn_ops) with keep_prob is deprecated and will be removed in a future version.\n",
      "Instructions for updating:\n",
      "Please use `rate` instead of `keep_prob`. Rate should be set to `rate = 1 - keep_prob`.\n",
      "WARNING:tensorflow:From d:\\Anaconda3\\envs\\pythongpu36\\lib\\site-packages\\tensorflow\\python\\ops\\losses\\losses_impl.py:209: to_float (from tensorflow.python.ops.math_ops) is deprecated and will be removed in a future version.\n",
      "Instructions for updating:\n",
      "Use tf.cast instead.\n",
      "INFO:tensorflow:Done calling model_fn.\n",
      "INFO:tensorflow:Create CheckpointSaverHook.\n",
      "INFO:tensorflow:Graph was finalized.\n",
      "WARNING:tensorflow:From d:\\Anaconda3\\envs\\pythongpu36\\lib\\site-packages\\tensorflow\\python\\training\\saver.py:1266: checkpoint_exists (from tensorflow.python.training.checkpoint_management) is deprecated and will be removed in a future version.\n",
      "Instructions for updating:\n",
      "Use standard file APIs to check for files with this prefix.\n",
      "INFO:tensorflow:Restoring parameters from /tensorflow/mnist_convnet_model\\model.ckpt-0\n",
      "WARNING:tensorflow:From d:\\Anaconda3\\envs\\pythongpu36\\lib\\site-packages\\tensorflow\\python\\training\\saver.py:1070: get_checkpoint_mtimes (from tensorflow.python.training.checkpoint_management) is deprecated and will be removed in a future version.\n",
      "Instructions for updating:\n",
      "Use standard file utilities to get mtimes.\n",
      "INFO:tensorflow:Running local_init_op.\n",
      "INFO:tensorflow:Done running local_init_op.\n",
      "WARNING:tensorflow:From d:\\Anaconda3\\envs\\pythongpu36\\lib\\site-packages\\tensorflow\\python\\training\\monitored_session.py:809: start_queue_runners (from tensorflow.python.training.queue_runner_impl) is deprecated and will be removed in a future version.\n",
      "Instructions for updating:\n",
      "To construct input pipelines, use the `tf.data` module.\n",
      "INFO:tensorflow:Saving checkpoints for 0 into /tensorflow/mnist_convnet_model\\model.ckpt.\n",
      "INFO:tensorflow:probabilities = [[0.09746435 0.09732861 0.10509644 0.1026283  0.09875921 0.1062398\n",
      "  0.10137492 0.08781461 0.10246912 0.10082472]\n",
      " [0.10717562 0.09620368 0.09656633 0.10118246 0.10560535 0.09499273\n",
      "  0.0972747  0.10199646 0.0974682  0.10153446]\n",
      " [0.10175149 0.10156349 0.10477058 0.09105945 0.10441787 0.09279455\n",
      "  0.09322586 0.0985986  0.10279688 0.10902114]\n",
      " [0.11536175 0.08792713 0.10266446 0.10159656 0.10931353 0.09509556\n",
      "  0.09650099 0.08884972 0.10758442 0.09510594]\n",
      " [0.11888366 0.09642318 0.10156376 0.10595704 0.10229479 0.08972052\n",
      "  0.09526519 0.08438571 0.09360003 0.11190607]\n",
      " [0.10262185 0.09255876 0.10764389 0.09169418 0.10796547 0.09684189\n",
      "  0.09486444 0.10692206 0.09927881 0.09960862]\n",
      " [0.09670962 0.0967999  0.10730415 0.10629357 0.11071111 0.09098145\n",
      "  0.10104653 0.09473228 0.09900425 0.09641718]\n",
      " [0.091762   0.10134073 0.1104377  0.09474685 0.10006064 0.09423685\n",
      "  0.1042676  0.09594895 0.10193504 0.10526367]\n",
      " [0.09751401 0.0935232  0.10918613 0.09880865 0.10143939 0.09081829\n",
      "  0.10337843 0.09592742 0.10630772 0.10309678]\n",
      " [0.09919862 0.09358255 0.10141364 0.08201171 0.11068384 0.09530542\n",
      "  0.10067526 0.1017658  0.09828995 0.11707318]\n",
      " [0.1053174  0.09513886 0.10543528 0.10244825 0.11047992 0.09379347\n",
      "  0.10374058 0.09376179 0.0947663  0.09511813]\n",
      " [0.09339841 0.10413123 0.10625698 0.08972702 0.11293519 0.0941828\n",
      "  0.10714641 0.08904181 0.1052359  0.09794425]\n",
      " [0.10208987 0.09451073 0.10103659 0.10190719 0.10754064 0.08888976\n",
      "  0.09731539 0.10877542 0.09831578 0.09961862]\n",
      " [0.09458327 0.10190874 0.10466568 0.10065957 0.10666826 0.09371607\n",
      "  0.10312705 0.10360515 0.097169   0.09389717]\n",
      " [0.0924892  0.1053509  0.1068951  0.09383687 0.10203255 0.09988884\n",
      "  0.10490164 0.10383409 0.09566613 0.09510468]\n",
      " [0.10004309 0.09330548 0.10422794 0.09764431 0.11162196 0.0948009\n",
      "  0.09281874 0.09675778 0.10849965 0.10028016]\n",
      " [0.0942669  0.09704647 0.11092785 0.10514607 0.10588683 0.0997444\n",
      "  0.09864541 0.08446326 0.0986999  0.10517296]\n",
      " [0.09269681 0.09680848 0.10199447 0.1032437  0.11743566 0.08486695\n",
      "  0.10375098 0.09798221 0.10568963 0.09553111]\n",
      " [0.11157621 0.08929515 0.10741908 0.10168608 0.10348033 0.0938489\n",
      "  0.0980978  0.0954309  0.10171723 0.09744831]\n",
      " [0.09934914 0.09608497 0.09777867 0.09275901 0.10834853 0.10118861\n",
      "  0.10381877 0.09909452 0.10099516 0.10058258]\n",
      " [0.10490388 0.09233417 0.11256453 0.09255835 0.10601613 0.09506565\n",
      "  0.0929244  0.08867187 0.08865479 0.1263062 ]\n",
      " [0.10442506 0.09070613 0.10734327 0.09351904 0.1057388  0.10200718\n",
      "  0.10115068 0.09713842 0.09651157 0.10145989]\n",
      " [0.09794407 0.08898632 0.10711998 0.1042209  0.10157987 0.10441902\n",
      "  0.10592216 0.09156365 0.09659633 0.10164763]\n",
      " [0.0986739  0.10094056 0.11221994 0.09832064 0.10557286 0.09566404\n",
      "  0.08744249 0.09654996 0.09878024 0.1058353 ]\n",
      " [0.0993799  0.09862124 0.10658192 0.09772998 0.10144821 0.09631638\n",
      "  0.09894117 0.10676325 0.09860711 0.09561088]\n",
      " [0.10690317 0.0926455  0.09862967 0.09935062 0.09996895 0.09098831\n",
      "  0.09391759 0.09751971 0.10342041 0.11665609]\n",
      " [0.10768135 0.1062661  0.10587881 0.10367944 0.10151646 0.08905752\n",
      "  0.1049284  0.08907349 0.09628549 0.09563296]\n",
      " [0.09566093 0.11132472 0.10549398 0.09541394 0.10434561 0.10354269\n",
      "  0.09235965 0.09544922 0.0981946  0.09821465]\n",
      " [0.11373401 0.09823254 0.09974159 0.1056162  0.10085993 0.09301329\n",
      "  0.11152865 0.08519763 0.09847008 0.09360611]\n",
      " [0.09771971 0.09484328 0.10487618 0.1036519  0.10111418 0.10133965\n",
      "  0.09680203 0.09551953 0.09776691 0.10636666]\n",
      " [0.10907847 0.09329109 0.09470318 0.1076643  0.10775605 0.09980458\n",
      "  0.10000455 0.09214982 0.09870867 0.09683933]\n",
      " [0.09996597 0.09703051 0.09033013 0.1002455  0.1005799  0.08838215\n",
      "  0.10069282 0.11301766 0.10184991 0.10790543]\n",
      " [0.10661532 0.10045093 0.10942115 0.10736305 0.10528398 0.08676835\n",
      "  0.09541219 0.09048187 0.10215078 0.0960524 ]\n",
      " [0.10254121 0.09511026 0.10366619 0.09653006 0.11525149 0.09432599\n",
      "  0.09459265 0.09328523 0.10160418 0.10309269]\n",
      " [0.09330652 0.09859033 0.10362773 0.09200771 0.10949714 0.08863554\n",
      "  0.10060716 0.1043028  0.10415078 0.10527425]\n",
      " [0.10104825 0.10272425 0.09717385 0.0996578  0.105554   0.09544196\n",
      "  0.10089925 0.10047811 0.09581632 0.10120626]\n",
      " [0.09998511 0.10292897 0.10312091 0.10091843 0.09513485 0.0977751\n",
      "  0.10106496 0.09497012 0.09781987 0.10628168]\n",
      " [0.10585484 0.08542474 0.11340741 0.10042389 0.10599736 0.09231935\n",
      "  0.09939304 0.09467561 0.10019574 0.10230798]\n",
      " [0.11256243 0.10191412 0.09842981 0.10132587 0.09797704 0.09900989\n",
      "  0.10347776 0.08803184 0.10009824 0.09717297]\n",
      " [0.11225772 0.10374144 0.09237801 0.09549603 0.10107097 0.09179296\n",
      "  0.09828823 0.09981069 0.09980144 0.10536258]\n",
      " [0.11199056 0.09633388 0.10714128 0.09449843 0.10567813 0.09194589\n",
      "  0.09843452 0.09706876 0.09814521 0.09876338]\n",
      " [0.10487337 0.09835012 0.09165939 0.10147431 0.10330747 0.09805121\n",
      "  0.09376725 0.09154981 0.11436519 0.10260181]\n",
      " [0.1004213  0.10176396 0.10448726 0.10011002 0.10062413 0.09675378\n",
      "  0.09753636 0.09991703 0.10070085 0.09768526]\n",
      " [0.10377055 0.10176732 0.09983013 0.09719928 0.1063805  0.09592745\n",
      "  0.09759145 0.10262147 0.09895694 0.09595486]\n",
      " [0.10017086 0.10209339 0.10334335 0.09402315 0.10928709 0.09399043\n",
      "  0.0883967  0.09589339 0.103556   0.10924564]\n",
      " [0.09465435 0.09505344 0.10729801 0.09746698 0.0976189  0.1026326\n",
      "  0.10612558 0.09909539 0.10242226 0.09763256]\n",
      " [0.09611642 0.09856034 0.10480598 0.09116638 0.10802412 0.09565741\n",
      "  0.09858809 0.09941509 0.10483562 0.10283054]\n",
      " [0.09967141 0.09114106 0.11048261 0.10882266 0.09608391 0.08722154\n",
      "  0.09360493 0.09400051 0.10989259 0.10907875]\n",
      " [0.10095883 0.09220509 0.10642268 0.09426703 0.10703422 0.08627091\n",
      "  0.1062734  0.09115699 0.10752412 0.10788677]\n",
      " [0.10057657 0.09090371 0.10435964 0.09590731 0.10625905 0.08600981\n",
      "  0.10038549 0.10670637 0.10362266 0.10526943]\n",
      " [0.1121998  0.09023237 0.11755394 0.09240995 0.10448966 0.09119978\n",
      "  0.10438217 0.08865018 0.10486871 0.09401346]\n",
      " [0.10037593 0.08754446 0.09971927 0.0882768  0.09984804 0.09929106\n",
      "  0.09440394 0.11038221 0.10750438 0.11265392]\n",
      " [0.10188548 0.10163434 0.09705209 0.09769174 0.11418374 0.09123034\n",
      "  0.09520001 0.09910982 0.10662483 0.09538765]\n",
      " [0.09545199 0.11137312 0.11057348 0.09604456 0.10139588 0.09148181\n",
      "  0.10221244 0.09827929 0.09812792 0.09505953]\n",
      " [0.09376973 0.10335858 0.11040686 0.10640337 0.09603513 0.09786427\n",
      "  0.10047329 0.08445306 0.10371978 0.10351593]\n",
      " [0.10182434 0.08793926 0.1045802  0.09433357 0.11183184 0.09051485\n",
      "  0.09383618 0.0881062  0.09936412 0.12766948]\n",
      " [0.09543705 0.09998182 0.10255132 0.10701882 0.10348254 0.08808634\n",
      "  0.10511368 0.09543131 0.10730474 0.09559239]\n",
      " [0.09858146 0.1044611  0.10764272 0.1079105  0.10775226 0.09280989\n",
      "  0.09361988 0.09111257 0.08942006 0.10668953]\n",
      " [0.09372888 0.09190957 0.11046503 0.10290234 0.11238927 0.098148\n",
      "  0.08952876 0.08835603 0.09998351 0.11258858]\n",
      " [0.10637906 0.08631595 0.09630546 0.10079964 0.10766451 0.09369536\n",
      "  0.09648588 0.08652186 0.10970303 0.11612927]\n",
      " [0.10321546 0.09614823 0.09284095 0.10835561 0.09795004 0.09343331\n",
      "  0.10007312 0.08506694 0.11021637 0.11269993]\n",
      " [0.09771126 0.11024306 0.09903825 0.10255033 0.10393154 0.09654534\n",
      "  0.09630661 0.09381933 0.10184719 0.09800708]\n",
      " [0.08934778 0.10122461 0.1004644  0.10399674 0.10306318 0.09337806\n",
      "  0.10160881 0.09900469 0.10380019 0.10411149]\n",
      " [0.09313806 0.10385499 0.09866567 0.09249772 0.10713416 0.09041227\n",
      "  0.10159291 0.09962038 0.09909491 0.11398897]\n",
      " [0.1004665  0.09720315 0.10730735 0.10089993 0.10861691 0.09807669\n",
      "  0.09759022 0.09772287 0.09980813 0.09230824]\n",
      " [0.10140039 0.09443279 0.10203251 0.09898683 0.1065243  0.10455206\n",
      "  0.09588524 0.0936769  0.09848516 0.1040238 ]\n",
      " [0.092562   0.10274481 0.10176779 0.1002828  0.09807688 0.08816348\n",
      "  0.10749544 0.10910202 0.10065719 0.09914757]\n",
      " [0.0992122  0.09457725 0.10138316 0.09857611 0.10360028 0.1096947\n",
      "  0.10625612 0.08516888 0.10190463 0.09962668]\n",
      " [0.09806406 0.10429694 0.09532533 0.10397702 0.10365374 0.09086172\n",
      "  0.09518638 0.09925681 0.1073442  0.10203382]\n",
      " [0.09610638 0.10166639 0.10543301 0.10358939 0.11106446 0.08646779\n",
      "  0.09828897 0.09156759 0.10129531 0.10452072]\n",
      " [0.10440657 0.09589832 0.1014746  0.1021193  0.10183952 0.09606576\n",
      "  0.09502552 0.09078349 0.10103205 0.11135478]\n",
      " [0.10013571 0.09884808 0.10208458 0.09064871 0.10690048 0.10411812\n",
      "  0.0998032  0.09628864 0.10294904 0.09822343]\n",
      " [0.08815514 0.1011204  0.10170528 0.0978753  0.11361714 0.0870913\n",
      "  0.09565121 0.09622886 0.116136   0.1024194 ]\n",
      " [0.10412705 0.09674481 0.10535213 0.09329247 0.10291602 0.09236881\n",
      "  0.1005106  0.09855519 0.10694625 0.09918669]\n",
      " [0.09874138 0.09571266 0.10074612 0.10086022 0.11118136 0.07840102\n",
      "  0.10405952 0.09964266 0.10515185 0.10550326]\n",
      " [0.0997047  0.09845862 0.10724814 0.10288995 0.09564915 0.0953247\n",
      "  0.09959345 0.09597532 0.10067734 0.10447864]\n",
      " [0.09568669 0.1027213  0.10139903 0.09362778 0.11118069 0.09579021\n",
      "  0.10499808 0.09019366 0.10345962 0.10094298]\n",
      " [0.09087661 0.09981412 0.10985712 0.10544687 0.09873249 0.09541532\n",
      "  0.10790708 0.09804384 0.09497089 0.09893568]\n",
      " [0.10361898 0.09969151 0.11091351 0.10015429 0.10337241 0.09595255\n",
      "  0.10330992 0.07695892 0.0886426  0.11738533]\n",
      " [0.09827475 0.09238943 0.10288104 0.10090455 0.09999474 0.10428127\n",
      "  0.10395055 0.09519681 0.10931122 0.09281567]\n",
      " [0.08983221 0.10346603 0.11102891 0.08827607 0.1145935  0.09405793\n",
      "  0.10140558 0.08956128 0.10565304 0.10212546]\n",
      " [0.0991637  0.10867755 0.10597405 0.09970327 0.10590842 0.0917331\n",
      "  0.09505539 0.09103826 0.10279226 0.09995405]\n",
      " [0.101712   0.09252875 0.10724436 0.09706794 0.10529587 0.09815098\n",
      "  0.09539562 0.10367167 0.09902905 0.09990378]\n",
      " [0.10299533 0.11091898 0.10275924 0.09900886 0.10620084 0.09147187\n",
      "  0.09664534 0.08988184 0.10112375 0.09899399]\n",
      " [0.10978353 0.10121669 0.10394084 0.09821689 0.11067179 0.09461596\n",
      "  0.09526754 0.09252731 0.09490909 0.09885034]\n",
      " [0.10233326 0.09745566 0.09555144 0.09964652 0.10614521 0.09840748\n",
      "  0.09277295 0.09821165 0.10296579 0.10651006]\n",
      " [0.09695309 0.09336647 0.09672555 0.09783586 0.10738914 0.09802669\n",
      "  0.10031763 0.09226418 0.10672043 0.11040102]\n",
      " [0.10226881 0.10264716 0.10700566 0.09574004 0.10621934 0.09317289\n",
      "  0.0967357  0.09535281 0.10450853 0.09634909]\n",
      " [0.09551372 0.10452621 0.1141984  0.09161323 0.11386118 0.08847963\n",
      "  0.09524076 0.09429207 0.09657897 0.10569582]\n",
      " [0.09560812 0.10239008 0.10134976 0.09483193 0.10563607 0.09191915\n",
      "  0.09980379 0.09515645 0.10759024 0.10571446]\n",
      " [0.10233949 0.10430647 0.1038726  0.08964273 0.1036048  0.10720372\n",
      "  0.09321815 0.09243721 0.10264358 0.10073125]\n",
      " [0.10196193 0.1050199  0.10477988 0.10315829 0.09651119 0.08609103\n",
      "  0.09384406 0.09226795 0.10533248 0.11103326]\n",
      " [0.08973592 0.10639866 0.09915916 0.1042176  0.09933935 0.09890552\n",
      "  0.10782157 0.09308934 0.09635437 0.10497854]\n",
      " [0.09547606 0.0960791  0.11125314 0.09705059 0.10720346 0.10095132\n",
      "  0.10096496 0.09453935 0.10247122 0.09401082]\n",
      " [0.10615423 0.0961012  0.10240446 0.09537084 0.09938753 0.09932128\n",
      "  0.11428883 0.09143534 0.09861095 0.09692536]\n",
      " [0.10418386 0.0976714  0.10053927 0.09671521 0.09765471 0.09440434\n",
      "  0.10110889 0.10458858 0.10000271 0.10313093]\n",
      " [0.10205542 0.0912139  0.10283346 0.0986056  0.10029892 0.09783971\n",
      "  0.10479829 0.0875522  0.10394085 0.11086162]\n",
      " [0.09818477 0.09378937 0.11156949 0.10326803 0.10114707 0.09611111\n",
      "  0.09703139 0.09781929 0.10072733 0.10035224]\n",
      " [0.09895575 0.08760425 0.10481797 0.11019109 0.09792396 0.098377\n",
      "  0.09498838 0.09725253 0.09938724 0.11050183]\n",
      " [0.11363798 0.09604491 0.09537206 0.09702124 0.10340621 0.10200675\n",
      "  0.10867558 0.08685958 0.10271402 0.09426171]]\n"
     ]
    },
    {
     "name": "stdout",
     "output_type": "stream",
     "text": [
      "INFO:tensorflow:loss = 2.2898643, step = 0\n",
      "INFO:tensorflow:Saving checkpoints for 1 into /tensorflow/mnist_convnet_model\\model.ckpt.\n",
      "INFO:tensorflow:Loss for final step: 2.2898643.\n"
     ]
    },
    {
     "data": {
      "text/plain": [
       "<tensorflow_estimator.python.estimator.estimator.Estimator at 0x12b3d586908>"
      ]
     },
     "execution_count": 15,
     "metadata": {},
     "output_type": "execute_result"
    }
   ],
   "source": [
    "# trail train model with 1 step\n",
    "# get cuDNN failed from python log\n",
    "# conda list | findstr cudnn (using version 7.3.1)\n",
    "# conda uninstall cudnn\n",
    "# install cudnn 7.5.1 manually\n",
    "mnist_classifier.train(\n",
    "    input_fn=train_input_fn,\n",
    "    steps=1,\n",
    "    hooks=[logging_hook])"
   ]
  },
  {
   "cell_type": "code",
   "execution_count": 16,
   "metadata": {},
   "outputs": [
    {
     "name": "stdout",
     "output_type": "stream",
     "text": [
      "INFO:tensorflow:Calling model_fn.\n",
      "INFO:tensorflow:Done calling model_fn.\n",
      "INFO:tensorflow:Create CheckpointSaverHook.\n",
      "INFO:tensorflow:Graph was finalized.\n",
      "INFO:tensorflow:Restoring parameters from /tensorflow/mnist_convnet_model\\model.ckpt-1\n",
      "INFO:tensorflow:Running local_init_op.\n",
      "INFO:tensorflow:Done running local_init_op.\n",
      "INFO:tensorflow:Saving checkpoints for 1 into /tensorflow/mnist_convnet_model\\model.ckpt.\n",
      "INFO:tensorflow:loss = 2.2968087, step = 1\n",
      "INFO:tensorflow:global_step/sec: 38.7505\n",
      "INFO:tensorflow:loss = 2.2908437, step = 101 (2.584 sec)\n",
      "INFO:tensorflow:global_step/sec: 40.5105\n",
      "INFO:tensorflow:loss = 2.2631054, step = 201 (2.470 sec)\n",
      "INFO:tensorflow:global_step/sec: 40.8284\n",
      "INFO:tensorflow:loss = 2.2461069, step = 301 (2.448 sec)\n",
      "INFO:tensorflow:global_step/sec: 40.7807\n",
      "INFO:tensorflow:loss = 2.2203684, step = 401 (2.453 sec)\n",
      "INFO:tensorflow:global_step/sec: 38.2782\n",
      "INFO:tensorflow:loss = 2.2098625, step = 501 (2.613 sec)\n",
      "INFO:tensorflow:global_step/sec: 39.673\n",
      "INFO:tensorflow:loss = 2.1730387, step = 601 (2.519 sec)\n",
      "INFO:tensorflow:global_step/sec: 40.6818\n",
      "INFO:tensorflow:loss = 2.1340966, step = 701 (2.461 sec)\n",
      "INFO:tensorflow:global_step/sec: 38.861\n",
      "INFO:tensorflow:loss = 2.0850425, step = 801 (2.574 sec)\n",
      "INFO:tensorflow:global_step/sec: 39.786\n",
      "INFO:tensorflow:loss = 2.0413496, step = 901 (2.510 sec)\n",
      "INFO:tensorflow:Saving checkpoints for 1001 into /tensorflow/mnist_convnet_model\\model.ckpt.\n",
      "INFO:tensorflow:Loss for final step: 1.957284.\n"
     ]
    },
    {
     "data": {
      "text/plain": [
       "<tensorflow_estimator.python.estimator.estimator.Estimator at 0x12b3d586908>"
      ]
     },
     "execution_count": 16,
     "metadata": {},
     "output_type": "execute_result"
    }
   ],
   "source": [
    "# Train model with 1000 steps\n",
    "mnist_classifier.train(input_fn=train_input_fn, steps=1000)"
   ]
  },
  {
   "cell_type": "code",
   "execution_count": 17,
   "metadata": {},
   "outputs": [],
   "source": [
    "# Evaluate the model with test data\n",
    "eval_input_fn = tf.estimator.inputs.numpy_input_fn(\n",
    "    x={\"x\": eval_data},\n",
    "    y=eval_labels,\n",
    "    num_epochs=1,\n",
    "    shuffle=False)"
   ]
  },
  {
   "cell_type": "code",
   "execution_count": 18,
   "metadata": {},
   "outputs": [
    {
     "name": "stdout",
     "output_type": "stream",
     "text": [
      "INFO:tensorflow:Calling model_fn.\n",
      "INFO:tensorflow:Done calling model_fn.\n",
      "INFO:tensorflow:Starting evaluation at 2019-05-13T07:48:27Z\n",
      "INFO:tensorflow:Graph was finalized.\n",
      "INFO:tensorflow:Restoring parameters from /tensorflow/mnist_convnet_model\\model.ckpt-1001\n",
      "INFO:tensorflow:Running local_init_op.\n",
      "INFO:tensorflow:Done running local_init_op.\n",
      "INFO:tensorflow:Finished evaluation at 2019-05-13-07:48:29\n",
      "INFO:tensorflow:Saving dict for global step 1001: accuracy = 0.7154, global_step = 1001, loss = 1.9056551\n",
      "INFO:tensorflow:Saving 'checkpoint_path' summary for global step 1001: /tensorflow/mnist_convnet_model\\model.ckpt-1001\n"
     ]
    }
   ],
   "source": [
    "eval_results = mnist_classifier.evaluate(input_fn=eval_input_fn)"
   ]
  },
  {
   "cell_type": "code",
   "execution_count": 19,
   "metadata": {},
   "outputs": [
    {
     "name": "stdout",
     "output_type": "stream",
     "text": [
      "{'accuracy': 0.7154, 'loss': 1.9056551, 'global_step': 1001}\n"
     ]
    }
   ],
   "source": [
    "print(eval_results)"
   ]
  },
  {
   "cell_type": "code",
   "execution_count": 20,
   "metadata": {},
   "outputs": [
    {
     "data": {
      "text/plain": [
       "7"
      ]
     },
     "execution_count": 20,
     "metadata": {},
     "output_type": "execute_result"
    }
   ],
   "source": [
    "eval_labels[0]"
   ]
  },
  {
   "cell_type": "code",
   "execution_count": 23,
   "metadata": {},
   "outputs": [
    {
     "data": {
      "image/png": "[encoded data removed]",
      "text/plain": [
       "<Figure size 432x288 with 2 Axes>"
      ]
     },
     "metadata": {
      "needs_background": "light"
     },
     "output_type": "display_data"
    }
   ],
   "source": [
    "# PLot the 1st image of test of train data\n",
    "plt.figure()\n",
    "plt.imshow(eval_data[0])\n",
    "plt.colorbar()\n",
    "plt.grid(False)\n",
    "plt.show()"
   ]
  },
  {
   "cell_type": "code",
   "execution_count": 26,
   "metadata": {},
   "outputs": [
    {
     "data": {
      "image/png": "[encoded data removed]",
      "text/plain": [
       "<Figure size 720x720 with 25 Axes>"
      ]
     },
     "metadata": {},
     "output_type": "display_data"
    }
   ],
   "source": [
    "# Display the first 25 images\n",
    "plt.figure(figsize=(10,10))\n",
    "for i in range(25):\n",
    "    plt.subplot(5,5,i+1)\n",
    "    plt.xticks([])\n",
    "    plt.yticks([])\n",
    "    plt.grid(False)\n",
    "    plt.imshow(eval_data[i], cmap=plt.cm.binary)\n",
    "    plt.xlabel(eval_labels[i])\n",
    "plt.show()"
   ]
  },
  {
   "cell_type": "code",
   "execution_count": null,
   "metadata": {},
   "outputs": [],
   "source": []
  }
 ],
 "metadata": {
  "kernelspec": {
   "display_name": "Tensorflow-GPU",
   "language": "python",
   "name": "pythongpu36"
  },
  "language_info": {
   "codemirror_mode": {
    "name": "ipython",
    "version": 3
   },
   "file_extension": ".py",
   "mimetype": "text/x-python",
   "name": "python",
   "nbconvert_exporter": "python",
   "pygments_lexer": "ipython3",
   "version": "3.6.8"
  }
 },
 "nbformat": 4,
 "nbformat_minor": 2
}
